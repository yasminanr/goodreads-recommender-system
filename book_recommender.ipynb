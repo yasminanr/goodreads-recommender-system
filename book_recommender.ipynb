{
 "cells": [
  {
   "cell_type": "markdown",
   "id": "7a1263b8-63b2-4473-baa3-0828b3a4ca6f",
   "metadata": {},
   "source": [
    "# Book Recommendation System - Collaborative Filtering"
   ]
  },
  {
   "cell_type": "code",
   "execution_count": 1,
   "id": "35912170-562d-4fb7-b0d7-85ce6041fc29",
   "metadata": {},
   "outputs": [],
   "source": [
    "import numpy as np\n",
    "import pandas as pd"
   ]
  },
  {
   "cell_type": "code",
   "execution_count": 2,
   "id": "77bc9ca5-b9f1-4c33-ba88-20ea866a0be8",
   "metadata": {},
   "outputs": [],
   "source": [
    "my_books = pd.read_csv(\"my_liked_books.csv\", index_col=0)\n",
    "my_books[\"book_id\"] = my_books[\"book_id\"].astype(str)"
   ]
  },
  {
   "cell_type": "code",
   "execution_count": 3,
   "id": "2dfd9af4-1c5d-4381-b72a-b5ea81ca8058",
   "metadata": {},
   "outputs": [
    {
     "data": {
      "text/html": [
       "<div>\n",
       "<style scoped>\n",
       "    .dataframe tbody tr th:only-of-type {\n",
       "        vertical-align: middle;\n",
       "    }\n",
       "\n",
       "    .dataframe tbody tr th {\n",
       "        vertical-align: top;\n",
       "    }\n",
       "\n",
       "    .dataframe thead th {\n",
       "        text-align: right;\n",
       "    }\n",
       "</style>\n",
       "<table border=\"1\" class=\"dataframe\">\n",
       "  <thead>\n",
       "    <tr style=\"text-align: right;\">\n",
       "      <th></th>\n",
       "      <th>user_id</th>\n",
       "      <th>book_id</th>\n",
       "      <th>rating</th>\n",
       "      <th>title</th>\n",
       "    </tr>\n",
       "  </thead>\n",
       "  <tbody>\n",
       "    <tr>\n",
       "      <th>0</th>\n",
       "      <td>-1</td>\n",
       "      <td>91201</td>\n",
       "      <td>5</td>\n",
       "      <td>Doctors</td>\n",
       "    </tr>\n",
       "    <tr>\n",
       "      <th>1</th>\n",
       "      <td>-1</td>\n",
       "      <td>18143977</td>\n",
       "      <td>5</td>\n",
       "      <td>All the Light We Cannot See</td>\n",
       "    </tr>\n",
       "    <tr>\n",
       "      <th>2</th>\n",
       "      <td>-1</td>\n",
       "      <td>467994</td>\n",
       "      <td>5</td>\n",
       "      <td>Sense and Sensibility</td>\n",
       "    </tr>\n",
       "    <tr>\n",
       "      <th>3</th>\n",
       "      <td>-1</td>\n",
       "      <td>8045416</td>\n",
       "      <td>5</td>\n",
       "      <td>To Kill a Mockingbird</td>\n",
       "    </tr>\n",
       "    <tr>\n",
       "      <th>4</th>\n",
       "      <td>-1</td>\n",
       "      <td>341288</td>\n",
       "      <td>5</td>\n",
       "      <td>Little Women</td>\n",
       "    </tr>\n",
       "  </tbody>\n",
       "</table>\n",
       "</div>"
      ],
      "text/plain": [
       "   user_id   book_id  rating                        title\n",
       "0       -1     91201       5                      Doctors\n",
       "1       -1  18143977       5  All the Light We Cannot See\n",
       "2       -1    467994       5        Sense and Sensibility\n",
       "3       -1   8045416       5        To Kill a Mockingbird\n",
       "4       -1    341288       5                 Little Women"
      ]
     },
     "execution_count": 3,
     "metadata": {},
     "output_type": "execute_result"
    }
   ],
   "source": [
    "my_books.head()"
   ]
  },
  {
   "cell_type": "code",
   "execution_count": 4,
   "id": "a58f5ca5-81a2-4990-ba43-db241817757d",
   "metadata": {},
   "outputs": [
    {
     "data": {
      "text/plain": [
       "(20, 4)"
      ]
     },
     "execution_count": 4,
     "metadata": {},
     "output_type": "execute_result"
    }
   ],
   "source": [
    "my_books.shape"
   ]
  },
  {
   "cell_type": "code",
   "execution_count": 5,
   "id": "96281943-bbd8-45de-aac7-24dde125a668",
   "metadata": {},
   "outputs": [],
   "source": [
    "csv_mapping = {}\n",
    "\n",
    "with open(\"book_id_map.csv\", \"r\") as f:\n",
    "    while True:\n",
    "        line = f.readline()\n",
    "        if not line:\n",
    "            break\n",
    "        csv_id, book_id = line.strip().split(\",\")\n",
    "        csv_mapping[csv_id] = book_id"
   ]
  },
  {
   "cell_type": "code",
   "execution_count": 6,
   "id": "1e225238-db45-429a-b090-713420b6241a",
   "metadata": {},
   "outputs": [],
   "source": [
    "book_set = set(my_books[\"book_id\"])"
   ]
  },
  {
   "cell_type": "code",
   "execution_count": 7,
   "id": "d067dfdd-62ce-49af-a0be-eac3b8f9d191",
   "metadata": {},
   "outputs": [],
   "source": [
    "overlap_users = {}\n",
    "                    \n",
    "with open(\"goodreads_interactions.csv\", \"r\") as f:\n",
    "    while True:\n",
    "        line = f.readline()\n",
    "        if not line:\n",
    "            break\n",
    "        user_id, csv_id, _, rating, _ = line.split(\",\")\n",
    "        \n",
    "        book_id = csv_mapping.get(csv_id)\n",
    "        \n",
    "        if book_id in book_set:\n",
    "            if user_id not in overlap_users:\n",
    "                overlap_users[user_id] = 1\n",
    "            else:\n",
    "                overlap_users[user_id] += 1"
   ]
  },
  {
   "cell_type": "code",
   "execution_count": 8,
   "id": "6182b8d2-d0b6-475d-bdf6-2fb8f9b45980",
   "metadata": {},
   "outputs": [
    {
     "data": {
      "text/plain": [
       "165329"
      ]
     },
     "execution_count": 8,
     "metadata": {},
     "output_type": "execute_result"
    }
   ],
   "source": [
    "len(overlap_users)"
   ]
  },
  {
   "cell_type": "code",
   "execution_count": 9,
   "id": "d5dd15d7-4d9a-4d26-8276-7bddf879e122",
   "metadata": {},
   "outputs": [],
   "source": [
    "filtered_overlap_users = set([k for k in overlap_users if overlap_users[k] > (my_books.shape[0]/5)])"
   ]
  },
  {
   "cell_type": "code",
   "execution_count": 10,
   "id": "06164c15-c76d-48e6-a8fe-074f84905017",
   "metadata": {},
   "outputs": [
    {
     "data": {
      "text/plain": [
       "87"
      ]
     },
     "execution_count": 10,
     "metadata": {},
     "output_type": "execute_result"
    }
   ],
   "source": [
    "len(filtered_overlap_users)"
   ]
  },
  {
   "cell_type": "code",
   "execution_count": 11,
   "id": "4da5ca45-0ce4-4f4d-8053-2e98db0e820b",
   "metadata": {},
   "outputs": [],
   "source": [
    "interactions_list = []\n",
    "\n",
    "with open(\"goodreads_interactions.csv\", 'r') as f:\n",
    "    while True:\n",
    "        line = f.readline()\n",
    "        if not line:\n",
    "            break\n",
    "        user_id, csv_id, _, rating, _ = line.split(\",\")\n",
    "        \n",
    "        if user_id in filtered_overlap_users:\n",
    "            book_id = csv_mapping[csv_id]\n",
    "            interactions_list.append([user_id, book_id, rating])"
   ]
  },
  {
   "cell_type": "code",
   "execution_count": 12,
   "id": "28b17249-fd78-4a72-8cf7-1be89410013c",
   "metadata": {},
   "outputs": [
    {
     "data": {
      "text/plain": [
       "394091"
      ]
     },
     "execution_count": 12,
     "metadata": {},
     "output_type": "execute_result"
    }
   ],
   "source": [
    "len(interactions_list)"
   ]
  },
  {
   "cell_type": "code",
   "execution_count": 13,
   "id": "87f9ea4c-ad15-4f0d-84ec-16154e6a03d7",
   "metadata": {},
   "outputs": [],
   "source": [
    "interactions = pd.DataFrame(interactions_list, columns=[\"user_id\", \"book_id\", \"rating\"])"
   ]
  },
  {
   "cell_type": "code",
   "execution_count": 14,
   "id": "b6a683f8-35bb-4ed9-8610-059219b1e0ba",
   "metadata": {},
   "outputs": [],
   "source": [
    "interactions = pd.concat([my_books[[\"user_id\", \"book_id\", \"rating\"]], interactions])"
   ]
  },
  {
   "cell_type": "code",
   "execution_count": 15,
   "id": "086a9128-6b95-45f9-b8dd-bfa3567a7783",
   "metadata": {},
   "outputs": [],
   "source": [
    "interactions[\"book_id\"] = interactions[\"book_id\"].astype(str)\n",
    "interactions[\"user_id\"] = interactions[\"user_id\"].astype(str)\n",
    "interactions[\"rating\"] = pd.to_numeric(interactions[\"rating\"])"
   ]
  },
  {
   "cell_type": "code",
   "execution_count": 16,
   "id": "190911d0-a3f5-4e56-ba65-c9fda8c2f182",
   "metadata": {},
   "outputs": [],
   "source": [
    "interactions[\"user_index\"] = interactions[\"user_id\"].astype(\"category\").cat.codes"
   ]
  },
  {
   "cell_type": "code",
   "execution_count": 17,
   "id": "e38feb49-3265-4e93-beaf-6bcc0bc8e51d",
   "metadata": {},
   "outputs": [],
   "source": [
    "interactions[\"book_index\"] = interactions[\"book_id\"].astype(\"category\").cat.codes"
   ]
  },
  {
   "cell_type": "code",
   "execution_count": 18,
   "id": "8d84e87f-c0b3-48ff-9d49-b3fd20ab6956",
   "metadata": {},
   "outputs": [
    {
     "data": {
      "text/plain": [
       "88"
      ]
     },
     "execution_count": 18,
     "metadata": {},
     "output_type": "execute_result"
    }
   ],
   "source": [
    "interactions[\"user_index\"].nunique()"
   ]
  },
  {
   "cell_type": "code",
   "execution_count": 19,
   "id": "dc4238be-da8f-42f1-91ef-69c0b7351c09",
   "metadata": {},
   "outputs": [
    {
     "data": {
      "text/plain": [
       "209408"
      ]
     },
     "execution_count": 19,
     "metadata": {},
     "output_type": "execute_result"
    }
   ],
   "source": [
    "interactions[\"book_index\"].nunique()"
   ]
  },
  {
   "cell_type": "code",
   "execution_count": 20,
   "id": "9d03ea3a-cc56-4471-8282-575462ba5449",
   "metadata": {},
   "outputs": [],
   "source": [
    "from scipy.sparse import coo_matrix"
   ]
  },
  {
   "cell_type": "code",
   "execution_count": 21,
   "id": "b95f144b-1f43-4e34-89a1-ccaaf58765b3",
   "metadata": {},
   "outputs": [],
   "source": [
    "ratings_mat_coo = coo_matrix((interactions[\"rating\"], (interactions[\"user_index\"], interactions[\"book_index\"])))"
   ]
  },
  {
   "cell_type": "code",
   "execution_count": 22,
   "id": "f4c801fb-1e10-4d14-b617-16c7258fcfe5",
   "metadata": {},
   "outputs": [
    {
     "data": {
      "text/plain": [
       "<88x209408 sparse matrix of type '<class 'numpy.int64'>'\n",
       "\twith 394111 stored elements in COOrdinate format>"
      ]
     },
     "execution_count": 22,
     "metadata": {},
     "output_type": "execute_result"
    }
   ],
   "source": [
    "ratings_mat_coo"
   ]
  },
  {
   "cell_type": "code",
   "execution_count": 23,
   "id": "fc28719f-095b-47c2-806c-a3ef2415f29d",
   "metadata": {},
   "outputs": [],
   "source": [
    "ratings_mat = ratings_mat_coo.tocsr()"
   ]
  },
  {
   "cell_type": "code",
   "execution_count": 24,
   "id": "2ba02f89-1aa7-42a1-9e1c-df6056eb07e7",
   "metadata": {},
   "outputs": [
    {
     "data": {
      "text/html": [
       "<div>\n",
       "<style scoped>\n",
       "    .dataframe tbody tr th:only-of-type {\n",
       "        vertical-align: middle;\n",
       "    }\n",
       "\n",
       "    .dataframe tbody tr th {\n",
       "        vertical-align: top;\n",
       "    }\n",
       "\n",
       "    .dataframe thead th {\n",
       "        text-align: right;\n",
       "    }\n",
       "</style>\n",
       "<table border=\"1\" class=\"dataframe\">\n",
       "  <thead>\n",
       "    <tr style=\"text-align: right;\">\n",
       "      <th></th>\n",
       "      <th>user_id</th>\n",
       "      <th>book_id</th>\n",
       "      <th>rating</th>\n",
       "      <th>user_index</th>\n",
       "      <th>book_index</th>\n",
       "    </tr>\n",
       "  </thead>\n",
       "  <tbody>\n",
       "    <tr>\n",
       "      <th>0</th>\n",
       "      <td>-1</td>\n",
       "      <td>91201</td>\n",
       "      <td>5</td>\n",
       "      <td>0</td>\n",
       "      <td>201490</td>\n",
       "    </tr>\n",
       "    <tr>\n",
       "      <th>1</th>\n",
       "      <td>-1</td>\n",
       "      <td>18143977</td>\n",
       "      <td>5</td>\n",
       "      <td>0</td>\n",
       "      <td>60539</td>\n",
       "    </tr>\n",
       "    <tr>\n",
       "      <th>2</th>\n",
       "      <td>-1</td>\n",
       "      <td>467994</td>\n",
       "      <td>5</td>\n",
       "      <td>0</td>\n",
       "      <td>150855</td>\n",
       "    </tr>\n",
       "    <tr>\n",
       "      <th>3</th>\n",
       "      <td>-1</td>\n",
       "      <td>8045416</td>\n",
       "      <td>5</td>\n",
       "      <td>0</td>\n",
       "      <td>190287</td>\n",
       "    </tr>\n",
       "    <tr>\n",
       "      <th>4</th>\n",
       "      <td>-1</td>\n",
       "      <td>341288</td>\n",
       "      <td>5</td>\n",
       "      <td>0</td>\n",
       "      <td>134028</td>\n",
       "    </tr>\n",
       "    <tr>\n",
       "      <th>5</th>\n",
       "      <td>-1</td>\n",
       "      <td>303481</td>\n",
       "      <td>5</td>\n",
       "      <td>0</td>\n",
       "      <td>120074</td>\n",
       "    </tr>\n",
       "    <tr>\n",
       "      <th>6</th>\n",
       "      <td>-1</td>\n",
       "      <td>348914</td>\n",
       "      <td>5</td>\n",
       "      <td>0</td>\n",
       "      <td>136950</td>\n",
       "    </tr>\n",
       "    <tr>\n",
       "      <th>7</th>\n",
       "      <td>-1</td>\n",
       "      <td>4397</td>\n",
       "      <td>5</td>\n",
       "      <td>0</td>\n",
       "      <td>148325</td>\n",
       "    </tr>\n",
       "    <tr>\n",
       "      <th>8</th>\n",
       "      <td>-1</td>\n",
       "      <td>140303</td>\n",
       "      <td>5</td>\n",
       "      <td>0</td>\n",
       "      <td>33890</td>\n",
       "    </tr>\n",
       "    <tr>\n",
       "      <th>9</th>\n",
       "      <td>-1</td>\n",
       "      <td>9723667</td>\n",
       "      <td>5</td>\n",
       "      <td>0</td>\n",
       "      <td>206991</td>\n",
       "    </tr>\n",
       "    <tr>\n",
       "      <th>10</th>\n",
       "      <td>-1</td>\n",
       "      <td>11317185</td>\n",
       "      <td>5</td>\n",
       "      <td>0</td>\n",
       "      <td>10821</td>\n",
       "    </tr>\n",
       "    <tr>\n",
       "      <th>11</th>\n",
       "      <td>-1</td>\n",
       "      <td>94786</td>\n",
       "      <td>5</td>\n",
       "      <td>0</td>\n",
       "      <td>204482</td>\n",
       "    </tr>\n",
       "    <tr>\n",
       "      <th>12</th>\n",
       "      <td>-1</td>\n",
       "      <td>4406</td>\n",
       "      <td>5</td>\n",
       "      <td>0</td>\n",
       "      <td>148415</td>\n",
       "    </tr>\n",
       "    <tr>\n",
       "      <th>13</th>\n",
       "      <td>-1</td>\n",
       "      <td>6493208</td>\n",
       "      <td>5</td>\n",
       "      <td>0</td>\n",
       "      <td>170742</td>\n",
       "    </tr>\n",
       "    <tr>\n",
       "      <th>14</th>\n",
       "      <td>-1</td>\n",
       "      <td>3850639</td>\n",
       "      <td>5</td>\n",
       "      <td>0</td>\n",
       "      <td>142668</td>\n",
       "    </tr>\n",
       "    <tr>\n",
       "      <th>15</th>\n",
       "      <td>-1</td>\n",
       "      <td>2975</td>\n",
       "      <td>5</td>\n",
       "      <td>0</td>\n",
       "      <td>116944</td>\n",
       "    </tr>\n",
       "    <tr>\n",
       "      <th>16</th>\n",
       "      <td>-1</td>\n",
       "      <td>243714</td>\n",
       "      <td>5</td>\n",
       "      <td>0</td>\n",
       "      <td>94040</td>\n",
       "    </tr>\n",
       "    <tr>\n",
       "      <th>17</th>\n",
       "      <td>-1</td>\n",
       "      <td>1685995</td>\n",
       "      <td>5</td>\n",
       "      <td>0</td>\n",
       "      <td>49425</td>\n",
       "    </tr>\n",
       "    <tr>\n",
       "      <th>18</th>\n",
       "      <td>-1</td>\n",
       "      <td>899801</td>\n",
       "      <td>5</td>\n",
       "      <td>0</td>\n",
       "      <td>200607</td>\n",
       "    </tr>\n",
       "    <tr>\n",
       "      <th>19</th>\n",
       "      <td>-1</td>\n",
       "      <td>15782402</td>\n",
       "      <td>5</td>\n",
       "      <td>0</td>\n",
       "      <td>40931</td>\n",
       "    </tr>\n",
       "  </tbody>\n",
       "</table>\n",
       "</div>"
      ],
      "text/plain": [
       "   user_id   book_id  rating  user_index  book_index\n",
       "0       -1     91201       5           0      201490\n",
       "1       -1  18143977       5           0       60539\n",
       "2       -1    467994       5           0      150855\n",
       "3       -1   8045416       5           0      190287\n",
       "4       -1    341288       5           0      134028\n",
       "5       -1    303481       5           0      120074\n",
       "6       -1    348914       5           0      136950\n",
       "7       -1      4397       5           0      148325\n",
       "8       -1    140303       5           0       33890\n",
       "9       -1   9723667       5           0      206991\n",
       "10      -1  11317185       5           0       10821\n",
       "11      -1     94786       5           0      204482\n",
       "12      -1      4406       5           0      148415\n",
       "13      -1   6493208       5           0      170742\n",
       "14      -1   3850639       5           0      142668\n",
       "15      -1      2975       5           0      116944\n",
       "16      -1    243714       5           0       94040\n",
       "17      -1   1685995       5           0       49425\n",
       "18      -1    899801       5           0      200607\n",
       "19      -1  15782402       5           0       40931"
      ]
     },
     "execution_count": 24,
     "metadata": {},
     "output_type": "execute_result"
    }
   ],
   "source": [
    "interactions[interactions[\"user_id\"] == \"-1\"]"
   ]
  },
  {
   "cell_type": "code",
   "execution_count": 25,
   "id": "dbbcf481-5c6d-4133-b227-71b1f1448dfe",
   "metadata": {},
   "outputs": [],
   "source": [
    "my_index = 0"
   ]
  },
  {
   "cell_type": "code",
   "execution_count": 26,
   "id": "f104f6f1-3fd8-442b-8a44-4a1d63f8b2e9",
   "metadata": {},
   "outputs": [],
   "source": [
    "from sklearn.metrics.pairwise import cosine_similarity"
   ]
  },
  {
   "cell_type": "code",
   "execution_count": 27,
   "id": "d33f0ae4-eb33-4395-b429-4114f2ae4118",
   "metadata": {},
   "outputs": [],
   "source": [
    "similarity = cosine_similarity(ratings_mat[my_index,:], ratings_mat).flatten()"
   ]
  },
  {
   "cell_type": "code",
   "execution_count": 28,
   "id": "0013ec91-7c50-47f3-bade-ee3571b45003",
   "metadata": {},
   "outputs": [],
   "source": [
    "indices = np.argpartition(similarity, -15)[-15:]"
   ]
  },
  {
   "cell_type": "code",
   "execution_count": 29,
   "id": "a336cc07-e207-45ac-8e2d-bddc0f3ca0fc",
   "metadata": {},
   "outputs": [],
   "source": [
    "similar_users = interactions[interactions[\"user_index\"].isin(indices)].copy()"
   ]
  },
  {
   "cell_type": "code",
   "execution_count": 30,
   "id": "21c67f17-2b28-46a5-bd88-c2f510e94a1e",
   "metadata": {},
   "outputs": [],
   "source": [
    "similar_users = similar_users[similar_users[\"user_id\"]!=\"-1\"]"
   ]
  },
  {
   "cell_type": "code",
   "execution_count": 31,
   "id": "9dc65f2e-dbff-42c1-b906-50c1870fb162",
   "metadata": {},
   "outputs": [
    {
     "data": {
      "text/plain": [
       "(12634, 5)"
      ]
     },
     "execution_count": 31,
     "metadata": {},
     "output_type": "execute_result"
    }
   ],
   "source": [
    "similar_users.shape"
   ]
  },
  {
   "cell_type": "code",
   "execution_count": 32,
   "id": "c6bb05a3-93d8-4a0b-8408-4e349594a715",
   "metadata": {},
   "outputs": [],
   "source": [
    "book_recs = similar_users.groupby(\"book_id\").rating.agg(['count', 'mean'])"
   ]
  },
  {
   "cell_type": "code",
   "execution_count": 33,
   "id": "314b9bcd-a2ed-480b-982b-803f24223e92",
   "metadata": {},
   "outputs": [
    {
     "data": {
      "text/html": [
       "<div>\n",
       "<style scoped>\n",
       "    .dataframe tbody tr th:only-of-type {\n",
       "        vertical-align: middle;\n",
       "    }\n",
       "\n",
       "    .dataframe tbody tr th {\n",
       "        vertical-align: top;\n",
       "    }\n",
       "\n",
       "    .dataframe thead th {\n",
       "        text-align: right;\n",
       "    }\n",
       "</style>\n",
       "<table border=\"1\" class=\"dataframe\">\n",
       "  <thead>\n",
       "    <tr style=\"text-align: right;\">\n",
       "      <th></th>\n",
       "      <th>count</th>\n",
       "      <th>mean</th>\n",
       "    </tr>\n",
       "    <tr>\n",
       "      <th>book_id</th>\n",
       "      <th></th>\n",
       "      <th></th>\n",
       "    </tr>\n",
       "  </thead>\n",
       "  <tbody>\n",
       "    <tr>\n",
       "      <th>1</th>\n",
       "      <td>7</td>\n",
       "      <td>3.714286</td>\n",
       "    </tr>\n",
       "    <tr>\n",
       "      <th>10</th>\n",
       "      <td>1</td>\n",
       "      <td>5.000000</td>\n",
       "    </tr>\n",
       "    <tr>\n",
       "      <th>10000191</th>\n",
       "      <td>2</td>\n",
       "      <td>2.000000</td>\n",
       "    </tr>\n",
       "    <tr>\n",
       "      <th>1000032</th>\n",
       "      <td>1</td>\n",
       "      <td>0.000000</td>\n",
       "    </tr>\n",
       "    <tr>\n",
       "      <th>10001383</th>\n",
       "      <td>1</td>\n",
       "      <td>0.000000</td>\n",
       "    </tr>\n",
       "    <tr>\n",
       "      <th>...</th>\n",
       "      <td>...</td>\n",
       "      <td>...</td>\n",
       "    </tr>\n",
       "    <tr>\n",
       "      <th>998</th>\n",
       "      <td>1</td>\n",
       "      <td>0.000000</td>\n",
       "    </tr>\n",
       "    <tr>\n",
       "      <th>998133</th>\n",
       "      <td>2</td>\n",
       "      <td>2.000000</td>\n",
       "    </tr>\n",
       "    <tr>\n",
       "      <th>9992246</th>\n",
       "      <td>1</td>\n",
       "      <td>0.000000</td>\n",
       "    </tr>\n",
       "    <tr>\n",
       "      <th>99944</th>\n",
       "      <td>1</td>\n",
       "      <td>0.000000</td>\n",
       "    </tr>\n",
       "    <tr>\n",
       "      <th>9999107</th>\n",
       "      <td>1</td>\n",
       "      <td>2.000000</td>\n",
       "    </tr>\n",
       "  </tbody>\n",
       "</table>\n",
       "<p>8836 rows × 2 columns</p>\n",
       "</div>"
      ],
      "text/plain": [
       "          count      mean\n",
       "book_id                  \n",
       "1             7  3.714286\n",
       "10            1  5.000000\n",
       "10000191      2  2.000000\n",
       "1000032       1  0.000000\n",
       "10001383      1  0.000000\n",
       "...         ...       ...\n",
       "998           1  0.000000\n",
       "998133        2  2.000000\n",
       "9992246       1  0.000000\n",
       "99944         1  0.000000\n",
       "9999107       1  2.000000\n",
       "\n",
       "[8836 rows x 2 columns]"
      ]
     },
     "execution_count": 33,
     "metadata": {},
     "output_type": "execute_result"
    }
   ],
   "source": [
    "book_recs"
   ]
  },
  {
   "cell_type": "code",
   "execution_count": 34,
   "id": "b2e88a42-72ea-4196-8465-31d40f4934ad",
   "metadata": {},
   "outputs": [],
   "source": [
    "book_titles = pd.read_json(\"book_titles.json\")\n",
    "book_titles[\"book_id\"] = book_titles[\"book_id\"].astype(str)"
   ]
  },
  {
   "cell_type": "code",
   "execution_count": 35,
   "id": "1aab4062-4937-4d3c-8e47-072201ea0328",
   "metadata": {},
   "outputs": [],
   "source": [
    "book_recs = book_recs.merge(book_titles, how=\"inner\", on=\"book_id\")"
   ]
  },
  {
   "cell_type": "code",
   "execution_count": 36,
   "id": "b95f5f39-45c9-44ef-ba25-7a1e0bbd97eb",
   "metadata": {},
   "outputs": [
    {
     "data": {
      "text/plain": [
       "(8742, 8)"
      ]
     },
     "execution_count": 36,
     "metadata": {},
     "output_type": "execute_result"
    }
   ],
   "source": [
    "book_recs.shape"
   ]
  },
  {
   "cell_type": "code",
   "execution_count": 37,
   "id": "f83dcf08-646f-4b11-832b-45922d8e9a0b",
   "metadata": {},
   "outputs": [],
   "source": [
    "book_recs[\"adjusted_count\"] = book_recs[\"count\"] * (book_recs[\"count\"] / book_recs[\"ratings\"])"
   ]
  },
  {
   "cell_type": "code",
   "execution_count": 38,
   "id": "6e7713d3-643c-4081-9558-f573ff610611",
   "metadata": {},
   "outputs": [],
   "source": [
    "book_recs[\"score\"] = book_recs[\"mean\"] * book_recs[\"adjusted_count\"]"
   ]
  },
  {
   "cell_type": "code",
   "execution_count": 39,
   "id": "2195591d-b796-4d14-a096-e62273a2a743",
   "metadata": {},
   "outputs": [],
   "source": [
    "book_recs = book_recs[~book_recs[\"book_id\"].isin(my_books[\"book_id\"])]"
   ]
  },
  {
   "cell_type": "code",
   "execution_count": 40,
   "id": "673fa9ae-c950-450e-a8b7-57af73869d1d",
   "metadata": {},
   "outputs": [],
   "source": [
    "my_books[\"mod_title\"] = my_books[\"title\"].str.replace(\"[^a-zA-Z0-9 ]\", \"\", regex=True).str.lower()"
   ]
  },
  {
   "cell_type": "code",
   "execution_count": 41,
   "id": "a525a6b9-eb9e-4619-918b-94a92d2516e8",
   "metadata": {},
   "outputs": [],
   "source": [
    "my_books[\"mod_title\"] = my_books[\"mod_title\"].str.replace(\"\\s+\", \" \", regex=True)"
   ]
  },
  {
   "cell_type": "code",
   "execution_count": 42,
   "id": "4b03313a-b1a6-466b-af23-34498a483d5b",
   "metadata": {},
   "outputs": [
    {
     "data": {
      "text/html": [
       "<div>\n",
       "<style scoped>\n",
       "    .dataframe tbody tr th:only-of-type {\n",
       "        vertical-align: middle;\n",
       "    }\n",
       "\n",
       "    .dataframe tbody tr th {\n",
       "        vertical-align: top;\n",
       "    }\n",
       "\n",
       "    .dataframe thead th {\n",
       "        text-align: right;\n",
       "    }\n",
       "</style>\n",
       "<table border=\"1\" class=\"dataframe\">\n",
       "  <thead>\n",
       "    <tr style=\"text-align: right;\">\n",
       "      <th></th>\n",
       "      <th>book_id</th>\n",
       "      <th>count</th>\n",
       "      <th>mean</th>\n",
       "      <th>title</th>\n",
       "      <th>ratings</th>\n",
       "      <th>url</th>\n",
       "      <th>cover_image</th>\n",
       "      <th>title_clean</th>\n",
       "      <th>adjusted_count</th>\n",
       "      <th>score</th>\n",
       "    </tr>\n",
       "  </thead>\n",
       "  <tbody>\n",
       "    <tr>\n",
       "      <th>0</th>\n",
       "      <td>1</td>\n",
       "      <td>7</td>\n",
       "      <td>3.714286</td>\n",
       "      <td>Harry Potter and the Half-Blood Prince (Harry ...</td>\n",
       "      <td>1713866</td>\n",
       "      <td>https://www.goodreads.com/book/show/1.Harry_Po...</td>\n",
       "      <td>https://images.gr-assets.com/books/1361039191m...</td>\n",
       "      <td>harry potter and the halfblood prince harry po...</td>\n",
       "      <td>0.000029</td>\n",
       "      <td>0.000106</td>\n",
       "    </tr>\n",
       "    <tr>\n",
       "      <th>1</th>\n",
       "      <td>10</td>\n",
       "      <td>1</td>\n",
       "      <td>5.000000</td>\n",
       "      <td>Harry Potter Collection (Harry Potter, #1-6)</td>\n",
       "      <td>25245</td>\n",
       "      <td>https://www.goodreads.com/book/show/10.Harry_P...</td>\n",
       "      <td>https://images.gr-assets.com/books/1328867351m...</td>\n",
       "      <td>harry potter collection harry potter 16</td>\n",
       "      <td>0.000040</td>\n",
       "      <td>0.000198</td>\n",
       "    </tr>\n",
       "    <tr>\n",
       "      <th>2</th>\n",
       "      <td>10000191</td>\n",
       "      <td>2</td>\n",
       "      <td>2.000000</td>\n",
       "      <td>Yellow Crocus</td>\n",
       "      <td>17787</td>\n",
       "      <td>https://www.goodreads.com/book/show/10000191-y...</td>\n",
       "      <td>https://s.gr-assets.com/assets/nophoto/book/11...</td>\n",
       "      <td>yellow crocus</td>\n",
       "      <td>0.000225</td>\n",
       "      <td>0.000450</td>\n",
       "    </tr>\n",
       "    <tr>\n",
       "      <th>3</th>\n",
       "      <td>1000032</td>\n",
       "      <td>1</td>\n",
       "      <td>0.000000</td>\n",
       "      <td>Getting Home Alive</td>\n",
       "      <td>47</td>\n",
       "      <td>https://www.goodreads.com/book/show/1000032.Ge...</td>\n",
       "      <td>https://s.gr-assets.com/assets/nophoto/book/11...</td>\n",
       "      <td>getting home alive</td>\n",
       "      <td>0.021277</td>\n",
       "      <td>0.000000</td>\n",
       "    </tr>\n",
       "    <tr>\n",
       "      <th>4</th>\n",
       "      <td>10001383</td>\n",
       "      <td>1</td>\n",
       "      <td>0.000000</td>\n",
       "      <td>33 Men</td>\n",
       "      <td>817</td>\n",
       "      <td>https://www.goodreads.com/book/show/10001383-3...</td>\n",
       "      <td>https://s.gr-assets.com/assets/nophoto/book/11...</td>\n",
       "      <td>33 men</td>\n",
       "      <td>0.001224</td>\n",
       "      <td>0.000000</td>\n",
       "    </tr>\n",
       "    <tr>\n",
       "      <th>...</th>\n",
       "      <td>...</td>\n",
       "      <td>...</td>\n",
       "      <td>...</td>\n",
       "      <td>...</td>\n",
       "      <td>...</td>\n",
       "      <td>...</td>\n",
       "      <td>...</td>\n",
       "      <td>...</td>\n",
       "      <td>...</td>\n",
       "      <td>...</td>\n",
       "    </tr>\n",
       "    <tr>\n",
       "      <th>8737</th>\n",
       "      <td>998</td>\n",
       "      <td>1</td>\n",
       "      <td>0.000000</td>\n",
       "      <td>The Millionaire Next Door: The Surprising Secr...</td>\n",
       "      <td>46032</td>\n",
       "      <td>https://www.goodreads.com/book/show/998.The_Mi...</td>\n",
       "      <td>https://s.gr-assets.com/assets/nophoto/book/11...</td>\n",
       "      <td>the millionaire next door the surprising secre...</td>\n",
       "      <td>0.000022</td>\n",
       "      <td>0.000000</td>\n",
       "    </tr>\n",
       "    <tr>\n",
       "      <th>8738</th>\n",
       "      <td>998133</td>\n",
       "      <td>2</td>\n",
       "      <td>2.000000</td>\n",
       "      <td>The Gathering</td>\n",
       "      <td>14548</td>\n",
       "      <td>https://www.goodreads.com/book/show/998133.The...</td>\n",
       "      <td>https://s.gr-assets.com/assets/nophoto/book/11...</td>\n",
       "      <td>the gathering</td>\n",
       "      <td>0.000275</td>\n",
       "      <td>0.000550</td>\n",
       "    </tr>\n",
       "    <tr>\n",
       "      <th>8739</th>\n",
       "      <td>9992246</td>\n",
       "      <td>1</td>\n",
       "      <td>0.000000</td>\n",
       "      <td>Eating Smoke: One Man's Descent Into Crystal M...</td>\n",
       "      <td>329</td>\n",
       "      <td>https://www.goodreads.com/book/show/9992246-ea...</td>\n",
       "      <td>https://images.gr-assets.com/books/1329579969m...</td>\n",
       "      <td>eating smoke one mans descent into crystal met...</td>\n",
       "      <td>0.003040</td>\n",
       "      <td>0.000000</td>\n",
       "    </tr>\n",
       "    <tr>\n",
       "      <th>8740</th>\n",
       "      <td>99944</td>\n",
       "      <td>1</td>\n",
       "      <td>0.000000</td>\n",
       "      <td>The Bhagavad Gita</td>\n",
       "      <td>33855</td>\n",
       "      <td>https://www.goodreads.com/book/show/99944.The_...</td>\n",
       "      <td>https://images.gr-assets.com/books/1383059639m...</td>\n",
       "      <td>the bhagavad gita</td>\n",
       "      <td>0.000030</td>\n",
       "      <td>0.000000</td>\n",
       "    </tr>\n",
       "    <tr>\n",
       "      <th>8741</th>\n",
       "      <td>9999107</td>\n",
       "      <td>1</td>\n",
       "      <td>2.000000</td>\n",
       "      <td>The American Heiress</td>\n",
       "      <td>24522</td>\n",
       "      <td>https://www.goodreads.com/book/show/9999107-th...</td>\n",
       "      <td>https://images.gr-assets.com/books/1307342832m...</td>\n",
       "      <td>the american heiress</td>\n",
       "      <td>0.000041</td>\n",
       "      <td>0.000082</td>\n",
       "    </tr>\n",
       "  </tbody>\n",
       "</table>\n",
       "<p>8730 rows × 10 columns</p>\n",
       "</div>"
      ],
      "text/plain": [
       "       book_id  count      mean  \\\n",
       "0            1      7  3.714286   \n",
       "1           10      1  5.000000   \n",
       "2     10000191      2  2.000000   \n",
       "3      1000032      1  0.000000   \n",
       "4     10001383      1  0.000000   \n",
       "...        ...    ...       ...   \n",
       "8737       998      1  0.000000   \n",
       "8738    998133      2  2.000000   \n",
       "8739   9992246      1  0.000000   \n",
       "8740     99944      1  0.000000   \n",
       "8741   9999107      1  2.000000   \n",
       "\n",
       "                                                  title  ratings  \\\n",
       "0     Harry Potter and the Half-Blood Prince (Harry ...  1713866   \n",
       "1          Harry Potter Collection (Harry Potter, #1-6)    25245   \n",
       "2                                         Yellow Crocus    17787   \n",
       "3                                    Getting Home Alive       47   \n",
       "4                                                33 Men      817   \n",
       "...                                                 ...      ...   \n",
       "8737  The Millionaire Next Door: The Surprising Secr...    46032   \n",
       "8738                                      The Gathering    14548   \n",
       "8739  Eating Smoke: One Man's Descent Into Crystal M...      329   \n",
       "8740                                  The Bhagavad Gita    33855   \n",
       "8741                               The American Heiress    24522   \n",
       "\n",
       "                                                    url  \\\n",
       "0     https://www.goodreads.com/book/show/1.Harry_Po...   \n",
       "1     https://www.goodreads.com/book/show/10.Harry_P...   \n",
       "2     https://www.goodreads.com/book/show/10000191-y...   \n",
       "3     https://www.goodreads.com/book/show/1000032.Ge...   \n",
       "4     https://www.goodreads.com/book/show/10001383-3...   \n",
       "...                                                 ...   \n",
       "8737  https://www.goodreads.com/book/show/998.The_Mi...   \n",
       "8738  https://www.goodreads.com/book/show/998133.The...   \n",
       "8739  https://www.goodreads.com/book/show/9992246-ea...   \n",
       "8740  https://www.goodreads.com/book/show/99944.The_...   \n",
       "8741  https://www.goodreads.com/book/show/9999107-th...   \n",
       "\n",
       "                                            cover_image  \\\n",
       "0     https://images.gr-assets.com/books/1361039191m...   \n",
       "1     https://images.gr-assets.com/books/1328867351m...   \n",
       "2     https://s.gr-assets.com/assets/nophoto/book/11...   \n",
       "3     https://s.gr-assets.com/assets/nophoto/book/11...   \n",
       "4     https://s.gr-assets.com/assets/nophoto/book/11...   \n",
       "...                                                 ...   \n",
       "8737  https://s.gr-assets.com/assets/nophoto/book/11...   \n",
       "8738  https://s.gr-assets.com/assets/nophoto/book/11...   \n",
       "8739  https://images.gr-assets.com/books/1329579969m...   \n",
       "8740  https://images.gr-assets.com/books/1383059639m...   \n",
       "8741  https://images.gr-assets.com/books/1307342832m...   \n",
       "\n",
       "                                            title_clean  adjusted_count  \\\n",
       "0     harry potter and the halfblood prince harry po...        0.000029   \n",
       "1               harry potter collection harry potter 16        0.000040   \n",
       "2                                         yellow crocus        0.000225   \n",
       "3                                    getting home alive        0.021277   \n",
       "4                                                33 men        0.001224   \n",
       "...                                                 ...             ...   \n",
       "8737  the millionaire next door the surprising secre...        0.000022   \n",
       "8738                                      the gathering        0.000275   \n",
       "8739  eating smoke one mans descent into crystal met...        0.003040   \n",
       "8740                                  the bhagavad gita        0.000030   \n",
       "8741                               the american heiress        0.000041   \n",
       "\n",
       "         score  \n",
       "0     0.000106  \n",
       "1     0.000198  \n",
       "2     0.000450  \n",
       "3     0.000000  \n",
       "4     0.000000  \n",
       "...        ...  \n",
       "8737  0.000000  \n",
       "8738  0.000550  \n",
       "8739  0.000000  \n",
       "8740  0.000000  \n",
       "8741  0.000082  \n",
       "\n",
       "[8730 rows x 10 columns]"
      ]
     },
     "execution_count": 42,
     "metadata": {},
     "output_type": "execute_result"
    }
   ],
   "source": [
    "book_recs"
   ]
  },
  {
   "cell_type": "code",
   "execution_count": 43,
   "id": "8b2c4830-b5e3-4728-8ce2-e6fbd877cb49",
   "metadata": {},
   "outputs": [],
   "source": [
    "book_recs = book_recs[~book_recs[\"title_clean\"].isin(my_books[\"mod_title\"])]"
   ]
  },
  {
   "cell_type": "code",
   "execution_count": 44,
   "id": "02586c59-788d-424a-a397-98040fd0f6d3",
   "metadata": {},
   "outputs": [],
   "source": [
    "book_recs = book_recs[book_recs[\"mean\"] >=4]"
   ]
  },
  {
   "cell_type": "code",
   "execution_count": 45,
   "id": "c69627ab-4709-4f73-ae28-fe9263a008b1",
   "metadata": {},
   "outputs": [],
   "source": [
    "book_recs = book_recs[book_recs[\"count\"]>2]"
   ]
  },
  {
   "cell_type": "code",
   "execution_count": 46,
   "id": "94389f88-3112-40f2-8a56-95310d6a540c",
   "metadata": {},
   "outputs": [],
   "source": [
    "top_recs = book_recs.sort_values(\"mean\", ascending=False)"
   ]
  },
  {
   "cell_type": "code",
   "execution_count": 47,
   "id": "d5efe18b-7e44-46cb-8464-161bf87aca8e",
   "metadata": {},
   "outputs": [
    {
     "data": {
      "text/plain": [
       "(38, 10)"
      ]
     },
     "execution_count": 47,
     "metadata": {},
     "output_type": "execute_result"
    }
   ],
   "source": [
    "top_recs.shape"
   ]
  },
  {
   "cell_type": "code",
   "execution_count": 48,
   "id": "0405b3ee-a3ac-4ace-a2d0-d6fed48544b3",
   "metadata": {},
   "outputs": [],
   "source": [
    "def make_clickable(val):\n",
    "    return '<a target=\"_blank\" href=\"{}\">Goodreads</a>'.format(val)\n",
    "\n",
    "def show_image(val):\n",
    "    return '<img src=\"{}\" width=50></img>'.format(val)"
   ]
  },
  {
   "cell_type": "code",
   "execution_count": 49,
   "id": "4f2c14f5-9946-4a56-8677-4b2e5b3d84db",
   "metadata": {},
   "outputs": [
    {
     "data": {
      "text/html": [
       "<style type=\"text/css\">\n",
       "</style>\n",
       "<table id=\"T_9fe6a\">\n",
       "  <thead>\n",
       "    <tr>\n",
       "      <th class=\"blank level0\" >&nbsp;</th>\n",
       "      <th id=\"T_9fe6a_level0_col0\" class=\"col_heading level0 col0\" >book_id</th>\n",
       "      <th id=\"T_9fe6a_level0_col1\" class=\"col_heading level0 col1\" >count</th>\n",
       "      <th id=\"T_9fe6a_level0_col2\" class=\"col_heading level0 col2\" >mean</th>\n",
       "      <th id=\"T_9fe6a_level0_col3\" class=\"col_heading level0 col3\" >title</th>\n",
       "      <th id=\"T_9fe6a_level0_col4\" class=\"col_heading level0 col4\" >ratings</th>\n",
       "      <th id=\"T_9fe6a_level0_col5\" class=\"col_heading level0 col5\" >url</th>\n",
       "      <th id=\"T_9fe6a_level0_col6\" class=\"col_heading level0 col6\" >cover_image</th>\n",
       "      <th id=\"T_9fe6a_level0_col7\" class=\"col_heading level0 col7\" >title_clean</th>\n",
       "      <th id=\"T_9fe6a_level0_col8\" class=\"col_heading level0 col8\" >adjusted_count</th>\n",
       "      <th id=\"T_9fe6a_level0_col9\" class=\"col_heading level0 col9\" >score</th>\n",
       "    </tr>\n",
       "  </thead>\n",
       "  <tbody>\n",
       "    <tr>\n",
       "      <th id=\"T_9fe6a_level0_row0\" class=\"row_heading level0 row0\" >4015</th>\n",
       "      <td id=\"T_9fe6a_row0_col0\" class=\"data row0 col0\" >25147754</td>\n",
       "      <td id=\"T_9fe6a_row0_col1\" class=\"data row0 col1\" >3</td>\n",
       "      <td id=\"T_9fe6a_row0_col2\" class=\"data row0 col2\" >5.000000</td>\n",
       "      <td id=\"T_9fe6a_row0_col3\" class=\"data row0 col3\" >Between the World and Me</td>\n",
       "      <td id=\"T_9fe6a_row0_col4\" class=\"data row0 col4\" >18448</td>\n",
       "      <td id=\"T_9fe6a_row0_col5\" class=\"data row0 col5\" ><a target=\"_blank\" href=\"https://www.goodreads.com/book/show/25147754-between-the-world-and-me\">Goodreads</a></td>\n",
       "      <td id=\"T_9fe6a_row0_col6\" class=\"data row0 col6\" ><img src=\"https://images.gr-assets.com/books/1433799467m/25147754.jpg\" width=50></img></td>\n",
       "      <td id=\"T_9fe6a_row0_col7\" class=\"data row0 col7\" >between the world and me</td>\n",
       "      <td id=\"T_9fe6a_row0_col8\" class=\"data row0 col8\" >0.000488</td>\n",
       "      <td id=\"T_9fe6a_row0_col9\" class=\"data row0 col9\" >0.002439</td>\n",
       "    </tr>\n",
       "    <tr>\n",
       "      <th id=\"T_9fe6a_level0_row1\" class=\"row_heading level0 row1\" >4095</th>\n",
       "      <td id=\"T_9fe6a_row1_col0\" class=\"data row1 col0\" >2547</td>\n",
       "      <td id=\"T_9fe6a_row1_col1\" class=\"data row1 col1\" >4</td>\n",
       "      <td id=\"T_9fe6a_row1_col2\" class=\"data row1 col2\" >4.750000</td>\n",
       "      <td id=\"T_9fe6a_row1_col3\" class=\"data row1 col3\" >The Prophet</td>\n",
       "      <td id=\"T_9fe6a_row1_col4\" class=\"data row1 col4\" >145579</td>\n",
       "      <td id=\"T_9fe6a_row1_col5\" class=\"data row1 col5\" ><a target=\"_blank\" href=\"https://www.goodreads.com/book/show/2547.The_Prophet\">Goodreads</a></td>\n",
       "      <td id=\"T_9fe6a_row1_col6\" class=\"data row1 col6\" ><img src=\"https://images.gr-assets.com/books/1355046521m/2547.jpg\" width=50></img></td>\n",
       "      <td id=\"T_9fe6a_row1_col7\" class=\"data row1 col7\" >the prophet</td>\n",
       "      <td id=\"T_9fe6a_row1_col8\" class=\"data row1 col8\" >0.000110</td>\n",
       "      <td id=\"T_9fe6a_row1_col9\" class=\"data row1 col9\" >0.000522</td>\n",
       "    </tr>\n",
       "    <tr>\n",
       "      <th id=\"T_9fe6a_level0_row2\" class=\"row_heading level0 row2\" >8222</th>\n",
       "      <td id=\"T_9fe6a_row2_col0\" class=\"data row2 col0\" >8664353</td>\n",
       "      <td id=\"T_9fe6a_row2_col1\" class=\"data row2 col1\" >7</td>\n",
       "      <td id=\"T_9fe6a_row2_col2\" class=\"data row2 col2\" >4.714286</td>\n",
       "      <td id=\"T_9fe6a_row2_col3\" class=\"data row2 col3\" >Unbroken: A World War II Story of Survival, Resilience, and Redemption</td>\n",
       "      <td id=\"T_9fe6a_row2_col4\" class=\"data row2 col4\" >504961</td>\n",
       "      <td id=\"T_9fe6a_row2_col5\" class=\"data row2 col5\" ><a target=\"_blank\" href=\"https://www.goodreads.com/book/show/8664353-unbroken\">Goodreads</a></td>\n",
       "      <td id=\"T_9fe6a_row2_col6\" class=\"data row2 col6\" ><img src=\"https://images.gr-assets.com/books/1327861115m/8664353.jpg\" width=50></img></td>\n",
       "      <td id=\"T_9fe6a_row2_col7\" class=\"data row2 col7\" >unbroken a world war ii story of survival resilience and redemption</td>\n",
       "      <td id=\"T_9fe6a_row2_col8\" class=\"data row2 col8\" >0.000097</td>\n",
       "      <td id=\"T_9fe6a_row2_col9\" class=\"data row2 col9\" >0.000457</td>\n",
       "    </tr>\n",
       "    <tr>\n",
       "      <th id=\"T_9fe6a_level0_row3\" class=\"row_heading level0 row3\" >1410</th>\n",
       "      <td id=\"T_9fe6a_row3_col0\" class=\"data row3 col0\" >144974</td>\n",
       "      <td id=\"T_9fe6a_row3_col1\" class=\"data row3 col1\" >3</td>\n",
       "      <td id=\"T_9fe6a_row3_col2\" class=\"data row3 col2\" >4.666667</td>\n",
       "      <td id=\"T_9fe6a_row3_col3\" class=\"data row3 col3\" >The Velveteen Rabbit</td>\n",
       "      <td id=\"T_9fe6a_row3_col4\" class=\"data row3 col4\" >175779</td>\n",
       "      <td id=\"T_9fe6a_row3_col5\" class=\"data row3 col5\" ><a target=\"_blank\" href=\"https://www.goodreads.com/book/show/144974.The_Velveteen_Rabbit\">Goodreads</a></td>\n",
       "      <td id=\"T_9fe6a_row3_col6\" class=\"data row3 col6\" ><img src=\"https://s.gr-assets.com/assets/nophoto/book/111x148-bcc042a9c91a29c1d680899eff700a03.png\" width=50></img></td>\n",
       "      <td id=\"T_9fe6a_row3_col7\" class=\"data row3 col7\" >the velveteen rabbit</td>\n",
       "      <td id=\"T_9fe6a_row3_col8\" class=\"data row3 col8\" >0.000051</td>\n",
       "      <td id=\"T_9fe6a_row3_col9\" class=\"data row3 col9\" >0.000239</td>\n",
       "    </tr>\n",
       "    <tr>\n",
       "      <th id=\"T_9fe6a_level0_row4\" class=\"row_heading level0 row4\" >8090</th>\n",
       "      <td id=\"T_9fe6a_row4_col0\" class=\"data row4 col0\" >83674</td>\n",
       "      <td id=\"T_9fe6a_row4_col1\" class=\"data row4 col1\" >3</td>\n",
       "      <td id=\"T_9fe6a_row4_col2\" class=\"data row4 col2\" >4.666667</td>\n",
       "      <td id=\"T_9fe6a_row4_col3\" class=\"data row4 col3\" >The Bridges of Madison County</td>\n",
       "      <td id=\"T_9fe6a_row4_col4\" class=\"data row4 col4\" >57812</td>\n",
       "      <td id=\"T_9fe6a_row4_col5\" class=\"data row4 col5\" ><a target=\"_blank\" href=\"https://www.goodreads.com/book/show/83674.The_Bridges_of_Madison_County\">Goodreads</a></td>\n",
       "      <td id=\"T_9fe6a_row4_col6\" class=\"data row4 col6\" ><img src=\"https://images.gr-assets.com/books/1344267141m/83674.jpg\" width=50></img></td>\n",
       "      <td id=\"T_9fe6a_row4_col7\" class=\"data row4 col7\" >the bridges of madison county</td>\n",
       "      <td id=\"T_9fe6a_row4_col8\" class=\"data row4 col8\" >0.000156</td>\n",
       "      <td id=\"T_9fe6a_row4_col9\" class=\"data row4 col9\" >0.000726</td>\n",
       "    </tr>\n",
       "    <tr>\n",
       "      <th id=\"T_9fe6a_level0_row5\" class=\"row_heading level0 row5\" >7422</th>\n",
       "      <td id=\"T_9fe6a_row5_col0\" class=\"data row5 col0\" >703292</td>\n",
       "      <td id=\"T_9fe6a_row5_col1\" class=\"data row5 col1\" >3</td>\n",
       "      <td id=\"T_9fe6a_row5_col2\" class=\"data row5 col2\" >4.666667</td>\n",
       "      <td id=\"T_9fe6a_row5_col3\" class=\"data row5 col3\" >The Witch of Blackbird Pond</td>\n",
       "      <td id=\"T_9fe6a_row5_col4\" class=\"data row5 col4\" >107549</td>\n",
       "      <td id=\"T_9fe6a_row5_col5\" class=\"data row5 col5\" ><a target=\"_blank\" href=\"https://www.goodreads.com/book/show/703292.The_Witch_of_Blackbird_Pond\">Goodreads</a></td>\n",
       "      <td id=\"T_9fe6a_row5_col6\" class=\"data row5 col6\" ><img src=\"https://images.gr-assets.com/books/1345499790m/703292.jpg\" width=50></img></td>\n",
       "      <td id=\"T_9fe6a_row5_col7\" class=\"data row5 col7\" >the witch of blackbird pond</td>\n",
       "      <td id=\"T_9fe6a_row5_col8\" class=\"data row5 col8\" >0.000084</td>\n",
       "      <td id=\"T_9fe6a_row5_col9\" class=\"data row5 col9\" >0.000391</td>\n",
       "    </tr>\n",
       "    <tr>\n",
       "      <th id=\"T_9fe6a_level0_row6\" class=\"row_heading level0 row6\" >6354</th>\n",
       "      <td id=\"T_9fe6a_row6_col0\" class=\"data row6 col0\" >5</td>\n",
       "      <td id=\"T_9fe6a_row6_col1\" class=\"data row6 col1\" >8</td>\n",
       "      <td id=\"T_9fe6a_row6_col2\" class=\"data row6 col2\" >4.625000</td>\n",
       "      <td id=\"T_9fe6a_row6_col3\" class=\"data row6 col3\" >Harry Potter and the Prisoner of Azkaban (Harry Potter, #3)</td>\n",
       "      <td id=\"T_9fe6a_row6_col4\" class=\"data row6 col4\" >1876252</td>\n",
       "      <td id=\"T_9fe6a_row6_col5\" class=\"data row6 col5\" ><a target=\"_blank\" href=\"https://www.goodreads.com/book/show/5.Harry_Potter_and_the_Prisoner_of_Azkaban\">Goodreads</a></td>\n",
       "      <td id=\"T_9fe6a_row6_col6\" class=\"data row6 col6\" ><img src=\"https://images.gr-assets.com/books/1499277281m/5.jpg\" width=50></img></td>\n",
       "      <td id=\"T_9fe6a_row6_col7\" class=\"data row6 col7\" >harry potter and the prisoner of azkaban harry potter 3</td>\n",
       "      <td id=\"T_9fe6a_row6_col8\" class=\"data row6 col8\" >0.000034</td>\n",
       "      <td id=\"T_9fe6a_row6_col9\" class=\"data row6 col9\" >0.000158</td>\n",
       "    </tr>\n",
       "    <tr>\n",
       "      <th id=\"T_9fe6a_level0_row7\" class=\"row_heading level0 row7\" >972</th>\n",
       "      <td id=\"T_9fe6a_row7_col0\" class=\"data row7 col0\" >12996</td>\n",
       "      <td id=\"T_9fe6a_row7_col1\" class=\"data row7 col1\" >5</td>\n",
       "      <td id=\"T_9fe6a_row7_col2\" class=\"data row7 col2\" >4.600000</td>\n",
       "      <td id=\"T_9fe6a_row7_col3\" class=\"data row7 col3\" >Othello</td>\n",
       "      <td id=\"T_9fe6a_row7_col4\" class=\"data row7 col4\" >242511</td>\n",
       "      <td id=\"T_9fe6a_row7_col5\" class=\"data row7 col5\" ><a target=\"_blank\" href=\"https://www.goodreads.com/book/show/12996.Othello\">Goodreads</a></td>\n",
       "      <td id=\"T_9fe6a_row7_col6\" class=\"data row7 col6\" ><img src=\"https://images.gr-assets.com/books/1459795105m/12996.jpg\" width=50></img></td>\n",
       "      <td id=\"T_9fe6a_row7_col7\" class=\"data row7 col7\" >othello</td>\n",
       "      <td id=\"T_9fe6a_row7_col8\" class=\"data row7 col8\" >0.000103</td>\n",
       "      <td id=\"T_9fe6a_row7_col9\" class=\"data row7 col9\" >0.000474</td>\n",
       "    </tr>\n",
       "    <tr>\n",
       "      <th id=\"T_9fe6a_level0_row8\" class=\"row_heading level0 row8\" >6807</th>\n",
       "      <td id=\"T_9fe6a_row8_col0\" class=\"data row8 col0\" >6</td>\n",
       "      <td id=\"T_9fe6a_row8_col1\" class=\"data row8 col1\" >7</td>\n",
       "      <td id=\"T_9fe6a_row8_col2\" class=\"data row8 col2\" >4.571429</td>\n",
       "      <td id=\"T_9fe6a_row8_col3\" class=\"data row8 col3\" >Harry Potter and the Goblet of Fire (Harry Potter, #4)</td>\n",
       "      <td id=\"T_9fe6a_row8_col4\" class=\"data row8 col4\" >1792561</td>\n",
       "      <td id=\"T_9fe6a_row8_col5\" class=\"data row8 col5\" ><a target=\"_blank\" href=\"https://www.goodreads.com/book/show/6.Harry_Potter_and_the_Goblet_of_Fire\">Goodreads</a></td>\n",
       "      <td id=\"T_9fe6a_row8_col6\" class=\"data row8 col6\" ><img src=\"https://images.gr-assets.com/books/1361482611m/6.jpg\" width=50></img></td>\n",
       "      <td id=\"T_9fe6a_row8_col7\" class=\"data row8 col7\" >harry potter and the goblet of fire harry potter 4</td>\n",
       "      <td id=\"T_9fe6a_row8_col8\" class=\"data row8 col8\" >0.000027</td>\n",
       "      <td id=\"T_9fe6a_row8_col9\" class=\"data row8 col9\" >0.000125</td>\n",
       "    </tr>\n",
       "    <tr>\n",
       "      <th id=\"T_9fe6a_level0_row9\" class=\"row_heading level0 row9\" >1250</th>\n",
       "      <td id=\"T_9fe6a_row9_col0\" class=\"data row9 col0\" >136251</td>\n",
       "      <td id=\"T_9fe6a_row9_col1\" class=\"data row9 col1\" >7</td>\n",
       "      <td id=\"T_9fe6a_row9_col2\" class=\"data row9 col2\" >4.571429</td>\n",
       "      <td id=\"T_9fe6a_row9_col3\" class=\"data row9 col3\" >Harry Potter and the Deathly Hallows (Harry Potter, #7)</td>\n",
       "      <td id=\"T_9fe6a_row9_col4\" class=\"data row9 col4\" >1784684</td>\n",
       "      <td id=\"T_9fe6a_row9_col5\" class=\"data row9 col5\" ><a target=\"_blank\" href=\"https://www.goodreads.com/book/show/136251.Harry_Potter_and_the_Deathly_Hallows\">Goodreads</a></td>\n",
       "      <td id=\"T_9fe6a_row9_col6\" class=\"data row9 col6\" ><img src=\"https://images.gr-assets.com/books/1474171184m/136251.jpg\" width=50></img></td>\n",
       "      <td id=\"T_9fe6a_row9_col7\" class=\"data row9 col7\" >harry potter and the deathly hallows harry potter 7</td>\n",
       "      <td id=\"T_9fe6a_row9_col8\" class=\"data row9 col8\" >0.000027</td>\n",
       "      <td id=\"T_9fe6a_row9_col9\" class=\"data row9 col9\" >0.000126</td>\n",
       "    </tr>\n",
       "  </tbody>\n",
       "</table>\n"
      ],
      "text/plain": [
       "<pandas.io.formats.style.Styler at 0x7fbb9a61fd30>"
      ]
     },
     "execution_count": 49,
     "metadata": {},
     "output_type": "execute_result"
    }
   ],
   "source": [
    "top_recs.head(10).style.format({'url': make_clickable, 'cover_image': show_image})"
   ]
  },
  {
   "cell_type": "code",
   "execution_count": null,
   "id": "ab1d6761-a332-41c1-b25f-38837957ca98",
   "metadata": {},
   "outputs": [],
   "source": []
  }
 ],
 "metadata": {
  "kernelspec": {
   "display_name": "Python 3 (ipykernel)",
   "language": "python",
   "name": "python3"
  },
  "language_info": {
   "codemirror_mode": {
    "name": "ipython",
    "version": 3
   },
   "file_extension": ".py",
   "mimetype": "text/x-python",
   "name": "python",
   "nbconvert_exporter": "python",
   "pygments_lexer": "ipython3",
   "version": "3.10.8"
  }
 },
 "nbformat": 4,
 "nbformat_minor": 5
}
