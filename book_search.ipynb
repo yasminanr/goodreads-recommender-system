{
 "cells": [
  {
   "cell_type": "markdown",
   "id": "393ff335-a126-45ba-b659-a385ac9e1bbf",
   "metadata": {},
   "source": [
    "# Book Recommender System - Book Search Engine"
   ]
  },
  {
   "cell_type": "markdown",
   "id": "5c054360-e451-49a2-962b-803cc442cc12",
   "metadata": {},
   "source": [
    "#### Count the number of lines in the book metadata file"
   ]
  },
  {
   "cell_type": "code",
   "execution_count": 1,
   "id": "d971ebc6-be6b-4ca1-901a-cb6eedcf57f3",
   "metadata": {},
   "outputs": [
    {
     "name": "stdout",
     "output_type": "stream",
     "text": [
      "7588375 goodreads_books.json.gz\n"
     ]
    }
   ],
   "source": [
    "!wc -l goodreads_books.json.gz"
   ]
  },
  {
   "cell_type": "markdown",
   "id": "ac7327a9-d269-4aa5-82d8-f240551de1c7",
   "metadata": {},
   "source": [
    "We have the data for over 7 million books."
   ]
  },
  {
   "cell_type": "markdown",
   "id": "765c952d-6340-460c-8631-4891093870ba",
   "metadata": {},
   "source": [
    "#### Show the file size"
   ]
  },
  {
   "cell_type": "code",
   "execution_count": 2,
   "id": "dbe3dba0-d912-4099-97da-13d57d9b7cdf",
   "metadata": {},
   "outputs": [
    {
     "name": "stdout",
     "output_type": "stream",
     "text": [
      "-rwxrwxrwx 1 root   root  2.0G Dec 26 23:55 goodreads_books.json.gz\n"
     ]
    }
   ],
   "source": [
    "!ls -lh | grep goodreads_books.json.gz"
   ]
  },
  {
   "cell_type": "markdown",
   "id": "eff4bda1-4c9a-4013-a75f-1b91c82f2958",
   "metadata": {},
   "source": [
    "This is a pretty large file, so we will try not to read the whole file at once, but instead we're going to stream it line by line."
   ]
  },
  {
   "cell_type": "code",
   "execution_count": 2,
   "id": "068a8fac-9a79-4691-87a2-bb97fa4cff17",
   "metadata": {},
   "outputs": [],
   "source": [
    "import gzip\n",
    "import json\n",
    "import numpy as np\n",
    "import pandas as pd\n",
    "import re"
   ]
  },
  {
   "cell_type": "code",
   "execution_count": 3,
   "id": "112bc1ab-3be2-439e-a897-34e82384efad",
   "metadata": {},
   "outputs": [],
   "source": [
    "with gzip.open(\"goodreads_books.json.gz\") as f:\n",
    "    line = f.readline()"
   ]
  },
  {
   "cell_type": "code",
   "execution_count": 4,
   "id": "59304758-15b3-4e21-a23c-89ba52220513",
   "metadata": {},
   "outputs": [
    {
     "data": {
      "text/plain": [
       "b'{\"isbn\": \"0312853122\", \"text_reviews_count\": \"1\", \"series\": [], \"country_code\": \"US\", \"language_code\": \"\", \"popular_shelves\": [{\"count\": \"3\", \"name\": \"to-read\"}, {\"count\": \"1\", \"name\": \"p\"}, {\"count\": \"1\", \"name\": \"collection\"}, {\"count\": \"1\", \"name\": \"w-c-fields\"}, {\"count\": \"1\", \"name\": \"biography\"}], \"asin\": \"\", \"is_ebook\": \"false\", \"average_rating\": \"4.00\", \"kindle_asin\": \"\", \"similar_books\": [], \"description\": \"\", \"format\": \"Paperback\", \"link\": \"https://www.goodreads.com/book/show/5333265-w-c-fields\", \"authors\": [{\"author_id\": \"604031\", \"role\": \"\"}], \"publisher\": \"St. Martin\\'s Press\", \"num_pages\": \"256\", \"publication_day\": \"1\", \"isbn13\": \"9780312853129\", \"publication_month\": \"9\", \"edition_information\": \"\", \"publication_year\": \"1984\", \"url\": \"https://www.goodreads.com/book/show/5333265-w-c-fields\", \"image_url\": \"https://images.gr-assets.com/books/1310220028m/5333265.jpg\", \"book_id\": \"5333265\", \"ratings_count\": \"3\", \"work_id\": \"5400751\", \"title\": \"W.C. Fields: A Life on Film\", \"title_without_series\": \"W.C. Fields: A Life on Film\"}\\n'"
      ]
     },
     "execution_count": 4,
     "metadata": {},
     "output_type": "execute_result"
    }
   ],
   "source": [
    "line"
   ]
  },
  {
   "cell_type": "markdown",
   "id": "87d89263-2362-4cce-9047-8afd956e2290",
   "metadata": {},
   "source": [
    "This is a single line in the file."
   ]
  },
  {
   "cell_type": "code",
   "execution_count": 5,
   "id": "2ca7042b-693c-46be-9e1c-903fa950a25b",
   "metadata": {},
   "outputs": [
    {
     "data": {
      "text/plain": [
       "{'isbn': '0312853122',\n",
       " 'text_reviews_count': '1',\n",
       " 'series': [],\n",
       " 'country_code': 'US',\n",
       " 'language_code': '',\n",
       " 'popular_shelves': [{'count': '3', 'name': 'to-read'},\n",
       "  {'count': '1', 'name': 'p'},\n",
       "  {'count': '1', 'name': 'collection'},\n",
       "  {'count': '1', 'name': 'w-c-fields'},\n",
       "  {'count': '1', 'name': 'biography'}],\n",
       " 'asin': '',\n",
       " 'is_ebook': 'false',\n",
       " 'average_rating': '4.00',\n",
       " 'kindle_asin': '',\n",
       " 'similar_books': [],\n",
       " 'description': '',\n",
       " 'format': 'Paperback',\n",
       " 'link': 'https://www.goodreads.com/book/show/5333265-w-c-fields',\n",
       " 'authors': [{'author_id': '604031', 'role': ''}],\n",
       " 'publisher': \"St. Martin's Press\",\n",
       " 'num_pages': '256',\n",
       " 'publication_day': '1',\n",
       " 'isbn13': '9780312853129',\n",
       " 'publication_month': '9',\n",
       " 'edition_information': '',\n",
       " 'publication_year': '1984',\n",
       " 'url': 'https://www.goodreads.com/book/show/5333265-w-c-fields',\n",
       " 'image_url': 'https://images.gr-assets.com/books/1310220028m/5333265.jpg',\n",
       " 'book_id': '5333265',\n",
       " 'ratings_count': '3',\n",
       " 'work_id': '5400751',\n",
       " 'title': 'W.C. Fields: A Life on Film',\n",
       " 'title_without_series': 'W.C. Fields: A Life on Film'}"
      ]
     },
     "execution_count": 5,
     "metadata": {},
     "output_type": "execute_result"
    }
   ],
   "source": [
    "data = json.loads(line)\n",
    "data"
   ]
  },
  {
   "cell_type": "markdown",
   "id": "5a49be95-ab03-4be8-8be5-4974bb6a3561",
   "metadata": {},
   "source": [
    "## Parsing the Book Data"
   ]
  },
  {
   "cell_type": "code",
   "execution_count": 7,
   "id": "edd3db40-f073-4197-af29-651889b55b5b",
   "metadata": {},
   "outputs": [],
   "source": [
    "def parse_fields(line):\n",
    "    data = json.loads(line)\n",
    "    return {\n",
    "        \"book_id\": data[\"book_id\"], \n",
    "        \"title\": data[\"title_without_series\"], \n",
    "        \"ratings\": data[\"ratings_count\"], \n",
    "        \"url\": data[\"url\"], \n",
    "        \"cover_image\": data[\"image_url\"]\n",
    "    }"
   ]
  },
  {
   "cell_type": "markdown",
   "id": "f9941796-577f-4fe1-a240-1fa995acc44e",
   "metadata": {},
   "source": [
    "Here we only load the fields that we're going to work on:\n",
    "- Book ID\n",
    "- Book title without series\n",
    "- Book ratings count\n",
    "- Book URL\n",
    "- Book cover image"
   ]
  },
  {
   "cell_type": "code",
   "execution_count": 8,
   "id": "e0b6d31e-1f29-4096-9950-69b6f1216c4e",
   "metadata": {},
   "outputs": [],
   "source": [
    "book_titles = []\n",
    "\n",
    "with gzip.open(\"goodreads_books.json.gz\") as f:\n",
    "    while True:\n",
    "        line = f.readline()\n",
    "        if not line:\n",
    "            break\n",
    "        fields = parse_fields(line)\n",
    "        try: \n",
    "            ratings = int(fields[\"ratings\"])\n",
    "        except ValueError:\n",
    "            continue\n",
    "        if ratings > 10:\n",
    "            book_titles.append(fields)"
   ]
  },
  {
   "cell_type": "markdown",
   "id": "a28ad44e-ccf9-40a7-83ae-551a2a7b5906",
   "metadata": {},
   "source": [
    "We will only include books that had been rated for more than 10 times, because there are a lot of data on books that have very few ratings count. Those books have very little chance of being recommended hence they are not very useful for our project."
   ]
  },
  {
   "cell_type": "markdown",
   "id": "bf0b5b78-793c-4a70-8d50-2fbdd61507dd",
   "metadata": {},
   "source": [
    "## Data Cleaning"
   ]
  },
  {
   "cell_type": "code",
   "execution_count": 9,
   "id": "506720c5-6942-4dbb-a2fd-e9c0ddaa6a69",
   "metadata": {},
   "outputs": [],
   "source": [
    "titles = pd.DataFrame.from_dict(book_titles)"
   ]
  },
  {
   "cell_type": "code",
   "execution_count": 10,
   "id": "91e2f984-ace3-4f53-a979-30dd5d0d748c",
   "metadata": {},
   "outputs": [],
   "source": [
    "titles[\"ratings\"] = pd.to_numeric(titles[\"ratings\"])"
   ]
  },
  {
   "cell_type": "code",
   "execution_count": 11,
   "id": "3588da8f-4264-4946-8808-e4eb94ac371d",
   "metadata": {},
   "outputs": [],
   "source": [
    "def clean_title(title):\n",
    "    title = re.sub(\"[^a-zA-Z0-9 ]\", \"\", title.lower())\n",
    "    return title"
   ]
  },
  {
   "cell_type": "code",
   "execution_count": 12,
   "id": "c9ef4919-f5fd-439c-b8d9-c8d4fce9a2ac",
   "metadata": {},
   "outputs": [],
   "source": [
    "titles[\"title_clean\"] = titles[\"title\"].apply(clean_title)"
   ]
  },
  {
   "cell_type": "code",
   "execution_count": 13,
   "id": "7e5af7e1-25f6-4072-ada0-b6fed95c9f89",
   "metadata": {},
   "outputs": [],
   "source": [
    "titles[\"title_clean\"] = titles[\"title_clean\"].str.replace(\"\\s+\", \" \", regex=True)"
   ]
  },
  {
   "cell_type": "code",
   "execution_count": 14,
   "id": "b07e732f-ad22-4696-97f6-87cd5e66442a",
   "metadata": {},
   "outputs": [],
   "source": [
    "titles = titles[titles[\"title_clean\"].str.len() > 0]"
   ]
  },
  {
   "cell_type": "markdown",
   "id": "e32438f6-49b9-448c-98af-14aebcd2e7a2",
   "metadata": {},
   "source": [
    "We clean the book titles data by:\n",
    "- Using regex to replace characters that aren't uppercase or lowercase letters, numbers, or space into an empty string.\n",
    "- Turning all letter into lowercase.\n",
    "- Replacing spaces that are more than one in a row into a single space.\n",
    "- Removing any title that are null by checking the length of title."
   ]
  },
  {
   "cell_type": "code",
   "execution_count": 15,
   "id": "f85ced25-1bff-4a0e-a994-19b6329564c9",
   "metadata": {},
   "outputs": [
    {
     "data": {
      "text/html": [
       "<div>\n",
       "<style scoped>\n",
       "    .dataframe tbody tr th:only-of-type {\n",
       "        vertical-align: middle;\n",
       "    }\n",
       "\n",
       "    .dataframe tbody tr th {\n",
       "        vertical-align: top;\n",
       "    }\n",
       "\n",
       "    .dataframe thead th {\n",
       "        text-align: right;\n",
       "    }\n",
       "</style>\n",
       "<table border=\"1\" class=\"dataframe\">\n",
       "  <thead>\n",
       "    <tr style=\"text-align: right;\">\n",
       "      <th></th>\n",
       "      <th>book_id</th>\n",
       "      <th>title</th>\n",
       "      <th>ratings</th>\n",
       "      <th>url</th>\n",
       "      <th>cover_image</th>\n",
       "      <th>title_clean</th>\n",
       "    </tr>\n",
       "  </thead>\n",
       "  <tbody>\n",
       "    <tr>\n",
       "      <th>0</th>\n",
       "      <td>7327624</td>\n",
       "      <td>The Unschooled Wizard (Sun Wolf and Starhawk, ...</td>\n",
       "      <td>140</td>\n",
       "      <td>https://www.goodreads.com/book/show/7327624-th...</td>\n",
       "      <td>https://images.gr-assets.com/books/1304100136m...</td>\n",
       "      <td>the unschooled wizard sun wolf and starhawk 12</td>\n",
       "    </tr>\n",
       "    <tr>\n",
       "      <th>1</th>\n",
       "      <td>6066819</td>\n",
       "      <td>Best Friends Forever</td>\n",
       "      <td>51184</td>\n",
       "      <td>https://www.goodreads.com/book/show/6066819-be...</td>\n",
       "      <td>https://s.gr-assets.com/assets/nophoto/book/11...</td>\n",
       "      <td>best friends forever</td>\n",
       "    </tr>\n",
       "    <tr>\n",
       "      <th>2</th>\n",
       "      <td>287140</td>\n",
       "      <td>Runic Astrology: Starcraft and Timekeeping in ...</td>\n",
       "      <td>15</td>\n",
       "      <td>https://www.goodreads.com/book/show/287140.Run...</td>\n",
       "      <td>https://images.gr-assets.com/books/1413219371m...</td>\n",
       "      <td>runic astrology starcraft and timekeeping in t...</td>\n",
       "    </tr>\n",
       "    <tr>\n",
       "      <th>3</th>\n",
       "      <td>287141</td>\n",
       "      <td>The Aeneid for Boys and Girls</td>\n",
       "      <td>46</td>\n",
       "      <td>https://www.goodreads.com/book/show/287141.The...</td>\n",
       "      <td>https://s.gr-assets.com/assets/nophoto/book/11...</td>\n",
       "      <td>the aeneid for boys and girls</td>\n",
       "    </tr>\n",
       "    <tr>\n",
       "      <th>4</th>\n",
       "      <td>378460</td>\n",
       "      <td>The Wanting of Levine</td>\n",
       "      <td>12</td>\n",
       "      <td>https://www.goodreads.com/book/show/378460.The...</td>\n",
       "      <td>https://s.gr-assets.com/assets/nophoto/book/11...</td>\n",
       "      <td>the wanting of levine</td>\n",
       "    </tr>\n",
       "  </tbody>\n",
       "</table>\n",
       "</div>"
      ],
      "text/plain": [
       "   book_id                                              title  ratings  \\\n",
       "0  7327624  The Unschooled Wizard (Sun Wolf and Starhawk, ...      140   \n",
       "1  6066819                               Best Friends Forever    51184   \n",
       "2   287140  Runic Astrology: Starcraft and Timekeeping in ...       15   \n",
       "3   287141                      The Aeneid for Boys and Girls       46   \n",
       "4   378460                              The Wanting of Levine       12   \n",
       "\n",
       "                                                 url  \\\n",
       "0  https://www.goodreads.com/book/show/7327624-th...   \n",
       "1  https://www.goodreads.com/book/show/6066819-be...   \n",
       "2  https://www.goodreads.com/book/show/287140.Run...   \n",
       "3  https://www.goodreads.com/book/show/287141.The...   \n",
       "4  https://www.goodreads.com/book/show/378460.The...   \n",
       "\n",
       "                                         cover_image  \\\n",
       "0  https://images.gr-assets.com/books/1304100136m...   \n",
       "1  https://s.gr-assets.com/assets/nophoto/book/11...   \n",
       "2  https://images.gr-assets.com/books/1413219371m...   \n",
       "3  https://s.gr-assets.com/assets/nophoto/book/11...   \n",
       "4  https://s.gr-assets.com/assets/nophoto/book/11...   \n",
       "\n",
       "                                         title_clean  \n",
       "0     the unschooled wizard sun wolf and starhawk 12  \n",
       "1                               best friends forever  \n",
       "2  runic astrology starcraft and timekeeping in t...  \n",
       "3                      the aeneid for boys and girls  \n",
       "4                              the wanting of levine  "
      ]
     },
     "execution_count": 15,
     "metadata": {},
     "output_type": "execute_result"
    }
   ],
   "source": [
    "titles.head()"
   ]
  },
  {
   "cell_type": "code",
   "execution_count": 16,
   "id": "063f8418-80ea-4fc9-9316-c353234fb2f0",
   "metadata": {},
   "outputs": [],
   "source": [
    "#titles.to_json(\"book_titles.json\")"
   ]
  },
  {
   "cell_type": "markdown",
   "id": "cbce4a0d-a5b2-4114-9cf8-b4c15bfc2b13",
   "metadata": {},
   "source": [
    "Turn the result into a json file for future use."
   ]
  },
  {
   "cell_type": "markdown",
   "id": "464d4f68-4759-4b7d-b4f1-068f66bae8d0",
   "metadata": {},
   "source": [
    "## Creating a Search Function"
   ]
  },
  {
   "cell_type": "markdown",
   "id": "2da45002-693c-4052-b8ed-fe12837ff417",
   "metadata": {
    "tags": []
   },
   "source": [
    "### Creating TFIDF Matrix (Term Frequency - Inverse Document Frequency)"
   ]
  },
  {
   "cell_type": "code",
   "execution_count": 17,
   "id": "011b99b6-dcce-4116-9bb2-96bdc2b21c18",
   "metadata": {},
   "outputs": [],
   "source": [
    "from sklearn.feature_extraction.text import TfidfVectorizer"
   ]
  },
  {
   "cell_type": "code",
   "execution_count": 18,
   "id": "292e1e09-349b-428a-91b7-b3e864c9069a",
   "metadata": {},
   "outputs": [],
   "source": [
    "vectorizer = TfidfVectorizer()\n",
    "tfidf = vectorizer.fit_transform(titles[\"title_clean\"])"
   ]
  },
  {
   "cell_type": "code",
   "execution_count": 19,
   "id": "c88400f0-c2e1-4542-b15d-7cda34ab3765",
   "metadata": {},
   "outputs": [],
   "source": [
    "from sklearn.metrics.pairwise import cosine_similarity"
   ]
  },
  {
   "cell_type": "code",
   "execution_count": 20,
   "id": "595be250-0b13-407c-bc30-1ff9671d883d",
   "metadata": {},
   "outputs": [],
   "source": [
    "def make_clickable(val):\n",
    "    return '<a target=\"_blank\" href=\"{}\">Goodreads</a>'.format(val)\n",
    "\n",
    "def show_image(val):\n",
    "    return '<img src=\"{}\" width=50></img>'.format(val)\n",
    "\n",
    "def search(query):\n",
    "    query = clean_title(query)\n",
    "    query_vec = vectorizer.transform([query])\n",
    "    similarity = cosine_similarity(query_vec, tfidf).flatten()\n",
    "    indices = np.argpartition(similarity, -10)[-10:]\n",
    "    results = titles.iloc[indices]\n",
    "    results = results.sort_values(\"ratings\", ascending=False)\n",
    "    \n",
    "    return results.head(5).style.format({'url': make_clickable, 'cover_image': show_image})"
   ]
  },
  {
   "cell_type": "code",
   "execution_count": 21,
   "id": "e97ded3a-97e4-4dbc-a8d4-cb247a5866bc",
   "metadata": {},
   "outputs": [
    {
     "data": {
      "text/html": [
       "<style type=\"text/css\">\n",
       "</style>\n",
       "<table id=\"T_f8913\">\n",
       "  <thead>\n",
       "    <tr>\n",
       "      <th class=\"blank level0\" >&nbsp;</th>\n",
       "      <th id=\"T_f8913_level0_col0\" class=\"col_heading level0 col0\" >book_id</th>\n",
       "      <th id=\"T_f8913_level0_col1\" class=\"col_heading level0 col1\" >title</th>\n",
       "      <th id=\"T_f8913_level0_col2\" class=\"col_heading level0 col2\" >ratings</th>\n",
       "      <th id=\"T_f8913_level0_col3\" class=\"col_heading level0 col3\" >url</th>\n",
       "      <th id=\"T_f8913_level0_col4\" class=\"col_heading level0 col4\" >cover_image</th>\n",
       "      <th id=\"T_f8913_level0_col5\" class=\"col_heading level0 col5\" >title_clean</th>\n",
       "    </tr>\n",
       "  </thead>\n",
       "  <tbody>\n",
       "    <tr>\n",
       "      <th id=\"T_f8913_level0_row0\" class=\"row_heading level0 row0\" >150998</th>\n",
       "      <td id=\"T_f8913_row0_col0\" class=\"data row0 col0\" >2975</td>\n",
       "      <td id=\"T_f8913_row0_col1\" class=\"data row0 col1\" >The Kite Runner</td>\n",
       "      <td id=\"T_f8913_row0_col2\" class=\"data row0 col2\" >5163</td>\n",
       "      <td id=\"T_f8913_row0_col3\" class=\"data row0 col3\" ><a target=\"_blank\" href=\"https://www.goodreads.com/book/show/2975.The_Kite_Runner\">Goodreads</a></td>\n",
       "      <td id=\"T_f8913_row0_col4\" class=\"data row0 col4\" ><img src=\"https://s.gr-assets.com/assets/nophoto/book/111x148-bcc042a9c91a29c1d680899eff700a03.png\" width=50></img></td>\n",
       "      <td id=\"T_f8913_row0_col5\" class=\"data row0 col5\" >the kite runner</td>\n",
       "    </tr>\n",
       "    <tr>\n",
       "      <th id=\"T_f8913_level0_row1\" class=\"row_heading level0 row1\" >1109543</th>\n",
       "      <td id=\"T_f8913_row1_col0\" class=\"data row1 col0\" >18996134</td>\n",
       "      <td id=\"T_f8913_row1_col1\" class=\"data row1 col1\" >The Kite Runner</td>\n",
       "      <td id=\"T_f8913_row1_col2\" class=\"data row1 col2\" >3580</td>\n",
       "      <td id=\"T_f8913_row1_col3\" class=\"data row1 col3\" ><a target=\"_blank\" href=\"https://www.goodreads.com/book/show/18996134-the-kite-runner\">Goodreads</a></td>\n",
       "      <td id=\"T_f8913_row1_col4\" class=\"data row1 col4\" ><img src=\"https://s.gr-assets.com/assets/nophoto/book/111x148-bcc042a9c91a29c1d680899eff700a03.png\" width=50></img></td>\n",
       "      <td id=\"T_f8913_row1_col5\" class=\"data row1 col5\" >the kite runner</td>\n",
       "    </tr>\n",
       "    <tr>\n",
       "      <th id=\"T_f8913_level0_row2\" class=\"row_heading level0 row2\" >1436229</th>\n",
       "      <td id=\"T_f8913_row2_col0\" class=\"data row2 col0\" >819495</td>\n",
       "      <td id=\"T_f8913_row2_col1\" class=\"data row2 col1\" >The Kite Runner</td>\n",
       "      <td id=\"T_f8913_row2_col2\" class=\"data row2 col2\" >1469</td>\n",
       "      <td id=\"T_f8913_row2_col3\" class=\"data row2 col3\" ><a target=\"_blank\" href=\"https://www.goodreads.com/book/show/819495.The_Kite_Runner\">Goodreads</a></td>\n",
       "      <td id=\"T_f8913_row2_col4\" class=\"data row2 col4\" ><img src=\"https://images.gr-assets.com/books/1333578275m/819495.jpg\" width=50></img></td>\n",
       "      <td id=\"T_f8913_row2_col5\" class=\"data row2 col5\" >the kite runner</td>\n",
       "    </tr>\n",
       "    <tr>\n",
       "      <th id=\"T_f8913_level0_row3\" class=\"row_heading level0 row3\" >360489</th>\n",
       "      <td id=\"T_f8913_row3_col0\" class=\"data row3 col0\" >77204</td>\n",
       "      <td id=\"T_f8913_row3_col1\" class=\"data row3 col1\" >The Kite Runner</td>\n",
       "      <td id=\"T_f8913_row3_col2\" class=\"data row3 col2\" >1453</td>\n",
       "      <td id=\"T_f8913_row3_col3\" class=\"data row3 col3\" ><a target=\"_blank\" href=\"https://www.goodreads.com/book/show/77204.The_Kite_Runner\">Goodreads</a></td>\n",
       "      <td id=\"T_f8913_row3_col4\" class=\"data row3 col4\" ><img src=\"https://images.gr-assets.com/books/1331915743m/77204.jpg\" width=50></img></td>\n",
       "      <td id=\"T_f8913_row3_col5\" class=\"data row3 col5\" >the kite runner</td>\n",
       "    </tr>\n",
       "    <tr>\n",
       "      <th id=\"T_f8913_level0_row4\" class=\"row_heading level0 row4\" >803758</th>\n",
       "      <td id=\"T_f8913_row4_col0\" class=\"data row4 col0\" >457061</td>\n",
       "      <td id=\"T_f8913_row4_col1\" class=\"data row4 col1\" >The Kite Runner</td>\n",
       "      <td id=\"T_f8913_row4_col2\" class=\"data row4 col2\" >803</td>\n",
       "      <td id=\"T_f8913_row4_col3\" class=\"data row4 col3\" ><a target=\"_blank\" href=\"https://www.goodreads.com/book/show/457061.The_Kite_Runner\">Goodreads</a></td>\n",
       "      <td id=\"T_f8913_row4_col4\" class=\"data row4 col4\" ><img src=\"https://images.gr-assets.com/books/1458753085m/457061.jpg\" width=50></img></td>\n",
       "      <td id=\"T_f8913_row4_col5\" class=\"data row4 col5\" >the kite runner</td>\n",
       "    </tr>\n",
       "  </tbody>\n",
       "</table>\n"
      ],
      "text/plain": [
       "<pandas.io.formats.style.Styler at 0x7f3c227ab910>"
      ]
     },
     "execution_count": 21,
     "metadata": {},
     "output_type": "execute_result"
    }
   ],
   "source": [
    "search(\"the kite runner\")"
   ]
  },
  {
   "cell_type": "markdown",
   "id": "27e712b2-a6c6-46a6-9910-aa90ce80194a",
   "metadata": {},
   "source": [
    "### Building an Interactive Search Box"
   ]
  },
  {
   "cell_type": "code",
   "execution_count": 22,
   "id": "452f66c7-5314-406d-87db-61159e2102c2",
   "metadata": {},
   "outputs": [],
   "source": [
    "import ipywidgets as widgets\n",
    "from IPython.display import display"
   ]
  },
  {
   "cell_type": "code",
   "execution_count": 23,
   "id": "6ab9f236-d944-46ef-a52d-ac18c43950ae",
   "metadata": {},
   "outputs": [
    {
     "data": {
      "application/vnd.jupyter.widget-view+json": {
       "model_id": "2fb96cba181b4e47925dc7f6a5674d26",
       "version_major": 2,
       "version_minor": 0
      },
      "text/plain": [
       "Text(value='', description='Book Title:')"
      ]
     },
     "metadata": {},
     "output_type": "display_data"
    },
    {
     "data": {
      "application/vnd.jupyter.widget-view+json": {
       "model_id": "6251c280d5364fc28ef1e8db62e8aff3",
       "version_major": 2,
       "version_minor": 0
      },
      "text/plain": [
       "Output()"
      ]
     },
     "metadata": {},
     "output_type": "display_data"
    }
   ],
   "source": [
    "book_input = widgets.Text(\n",
    "    value='',\n",
    "    description='Book Title:',\n",
    "    disabled=False\n",
    ")\n",
    "book_list = widgets.Output()\n",
    "\n",
    "def on_type(data):\n",
    "    with book_list:\n",
    "        book_list.clear_output()\n",
    "        title = data[\"new\"]\n",
    "        if len(title) >= 1:\n",
    "            display(search(title))\n",
    "\n",
    "book_input.observe(on_type, names='value')\n",
    "\n",
    "display(book_input, book_list)"
   ]
  }
 ],
 "metadata": {
  "kernelspec": {
   "display_name": "Python 3 (ipykernel)",
   "language": "python",
   "name": "python3"
  },
  "language_info": {
   "codemirror_mode": {
    "name": "ipython",
    "version": 3
   },
   "file_extension": ".py",
   "mimetype": "text/x-python",
   "name": "python",
   "nbconvert_exporter": "python",
   "pygments_lexer": "ipython3",
   "version": "3.10.8"
  }
 },
 "nbformat": 4,
 "nbformat_minor": 5
}
